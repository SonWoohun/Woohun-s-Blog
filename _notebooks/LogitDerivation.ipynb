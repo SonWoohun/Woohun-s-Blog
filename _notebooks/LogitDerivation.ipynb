{
 "cells": [
  {
   "cell_type": "markdown",
   "metadata": {},
   "source": [
    "# Looking into Logit\n",
    "\n",
    "I try to dip a little on the usage of logistic distribution in the discrete choice model literature. The content generally follows Kenneth E. Train's book \"Discrete Choice Methods with Simulation (2003)\", Chapter 3.\n",
    "\n",
    "## Settings\n",
    "\n",
    "First, I introduce the definition of Random Utility Models which are the background of the derivations I will go through. The definition can be found in R. Duncan Luc and Patrick Suppes' \"Preference, Utility, and Subjective Probability\" (1965).\n",
    "\n",
    "***Definition (Random Utility Model)***\n",
    "\n",
    "*Let $A$ : finite set of alternatives, $U:A→\\mathbb{R}^{|A|}$ : random vector of utilities ($U(x)$ for $x\\in A$ is a random variable). A **random utility model** is a set of preference probabilities defined for all subsets of a finite $A$ for which $\\exists U$ on $A$ s.t. $\\forall x\\in Y\\subseteq A$, the probability of $x$ being chosen in $Y$ is $\\Pr[U(x)\\geq U(y),y\\in Y]$*.\n",
    "\n",
    "Let a decision maker with index $i$ is facing $J$ alternatives (the set of $J$ alternatives will be $Y$ in the definition). The utility from a good $j$ ($x$ in the definition) is $v_{ij}$ ($U(x)$ in the definition), which consists of two components, (1) part that is known up to parameter, $u_{ij}$, and (2) part that is unknown (error term), $ɛ_{ij}$.\n",
    "\n",
    "Now to make the model into a logit model, we have to assume that each error terms independently and identically follow Gumbel distribution (type 1 extreme value distribution (EV $I$)). It has a p.d.f. of $f(ɛ_{ij})=e^{-ɛ_{ij}}e^{-e^{-ɛ_{ij}}}$ and a c.d.f. of $F(ɛ_{ij})=e^{-e^{-ɛ_{ij}}}$. \n",
    "- $v_{ij}=u_{ij}+ɛ_{ij}$ for $\\forall i=1,\\dots,N$, $\\forall j=1,\\dots,J$.\n",
    "- $ɛ_{ij}\\overset{iid}{\\sim}EV \\:I$\n",
    "\n",
    "We call this kind of additively separable model as Additive Random Utility Model (ARUM).\n",
    "\n",
    "Since Gumbel distribution is not symmetric (skewed) and mean is not zero, it is sometimes cumbersome to explain what this kind of error structure implies. It is well-known that a random variable $X\\sim EXP(1)$, then $-\\ln(X)\\sim EV I$. Then, let there be a multiplicative random utility model $V_{ij}\\epsilon_{ij}$, where $\\frac{1}{\\epsilon_{ij}}∼EXP(1)$. Let $ln(V_{ij})=:v_{ij}$ and $\\ln(ϵ_{ij})=-ln(\\frac{1}{ϵ_{ij}})=:ɛ_{ij}$. Then, by taking a log on multiplicative random utility model, i.e., $ln(V_{ij}ϵ_{ij})=v_{ij}+ɛ_{ij}$ we get the ARUM model with error term following Gumbel distribution.\n",
    "\n",
    "## Derivation\n",
    "\n",
    "Although the problem of interpretation of error terms persists, what is important in the discrete choice model is the difference between the utility since the criteria of one choosing a good from the choice set depends on whether the good gives the highest utility. We can express it as follows :\n",
    "\n",
    "- $\\forall j'\\neq j$, $v_{ij}\\geq v_{ij'}$ should hold.\n",
    "\n",
    "Then, let the probability of choosing good $j$ as $\\text{P}_{ij}:=\\Pr(v_{ij}\\geq v_{ij'},\\forall j'\\neq j)$. It follows that $\\text{P}_{ij}=\\Pr(ɛ_{ij'}\\leq u_{ij}-u_{ij'}+ɛ_{ij},\\forall j'\\neq j)$. \n",
    "\n",
    "Now, for a while let $ɛ_{ij}$ as given value. Then, $\\text{P}_{ij}|ɛ_{ij}=\\Pr(ɛ_{ij'}\\leq u_{ij}-u_{ij'}+ɛ_{ij},\\forall j'\\neq j|ɛ_{ij})=\\underbrace{\\Pr(ɛ_{ij'}\\leq u_{ij}-u_{ij'}+ɛ_{ij},\\forall j'\\neq j)}_{(∵\\:ɛ_{ik}\\overset{iid}{\\sim}EV\\:I)}=\\underbrace{\\underset{j'\\neq j}{\\Pi}\\Pr(ɛ_{ij'}\\leq u_{ij}-u_{ij'}+ɛ_{ij})}_{(∵\\:ɛ_{ik}\\overset{iid}{\\sim}EV\\:I)}=\\underset{j'\\neq j}{\\Pi}e^{-e^{-(u_{ij}-u_{ij'}+ɛ_{ij})}}$.\n",
    "\n",
    "Then, $\\text{P}_{ij}=\\int_{-\\infty}^{\\infty}(\\text{P}_{ij}|ɛ_{ij})f(ɛ_{ij})dɛ_{ij}=\\int_{-\\infty}^{\\infty}\\underset{j'\\neq j}{\\Pi}e^{-e^{-(u_{ij}-u_{ij'}+ɛ_{ij})}}e^{-ɛ_{ij}}e^{-e^{-ɛ_{ij}}}dɛ_{ij}=\\int_{-\\infty}^{\\infty}e^{\\underset{j'\\neq j}{\\sum}e^{-(u_{ij}-u_{ij'}+\\varepsilon_{ij})}}e^{-\\varepsilon_{ij}}e^{-e^{-\\varepsilon_{ij}}}d\\varepsilon_{ij}=\\int_{-\\infty}^{\\infty}e^{\\underset{j'}{\\sum}e^{-(u_{ij}-u_{ij'}+ɛ_{ij})}}e^{-ɛ_{ij}}dɛ_{ij}\\:(∵\\:e^{-e^{-ɛ_{ij}}}=e^{-e^{-(u_{ij}-u_{ij}+ɛ_{ij})}})$. Upon reaching here, observe that if $t=-e^{-ɛ_{ij}}$, then $\\frac{dt}{dɛ_{ij}}=e^{-ɛ_{ij}}⇒dt=e^{-ɛ_{ij}}d\\varepsilon_{ij}$, $t→-\\infty$ as $ɛ_{ij}→∞$, and $t→0$ as $ɛ_{ij}→-∞$. Now, we can rewrite $P_{ij}$ as follows : \n",
    "\n",
    "$P_{ij}=\\int_{-\\infty}^{\\infty}e^{e^{ɛ_{ij}}\\underset{j'}{\\sum}e^{-(u_{ij}-u_{ij'})}}e^{-ɛ_{ij}}dɛ_{ij}=\\int_{-∞}^{0}e^{t\\underset{j'}{\\sum}e^{-(u_{ij}-u_{ij'})}}dt=\\frac{e^{t\\underset{j'}{\\sum}e^{-(u_{ij}-u_{ij'})}}}{\\underset{j'}{\\sum}e^{-(u_{ij}-u_{ij'})}}\\Bigr\\vert_{-∞}^{0}=\\frac{1}{\\underset{j'}{\\sum}e^{-(u_{ij}-u_{ij'})}}=\\frac{e^{u_{ij}}}{\\underset{j}{\\sum}e^{u_{ij}}}$.\n",
    "\n",
    "Thus, we have derived the multinomial logistic distribution from assuming Gumbel distribution of error terms.\n",
    "\n"
   ]
  }
 ],
 "metadata": {
  "language_info": {
   "name": "python"
  }
 },
 "nbformat": 4,
 "nbformat_minor": 2
}
